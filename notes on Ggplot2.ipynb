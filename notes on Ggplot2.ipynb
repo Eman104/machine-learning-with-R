{
 "cells": [
  {
   "cell_type": "code",
   "execution_count": null,
   "id": "025be51e",
   "metadata": {},
   "outputs": [],
   "source": [
    "surveys_complete <- read_csv(\"data/surveys_complete.csv\")"
   ]
  },
  {
   "cell_type": "markdown",
   "id": "386701a9",
   "metadata": {},
   "source": [
    "# Plotting with ggplot2\n",
    "\n",
    "ggplot2 is a plotting package that makes it simple to create complex plots from data in a data frame. It provides a more programmatic interface for specifying what variables to plot, how they are displayed, and general visual properties. Therefore, we only need minimal changes if the underlying data change or if we decide to change from a bar plot to a scatterplot. This helps in creating publication quality plots with minimal amounts of adjustments and tweaking.\n",
    "\n",
    "ggplot2 plots work best with data in the ‘long’ format, i.e., a column for every dimension, and a row for every observation. Well-structured data will save you lots of time when making figures with ggplot2\n",
    "\n",
    "ggplot graphics are built layer by layer by adding new elements. Adding layers in this fashion allows for extensive flexibility and customization of plots.\n",
    "\n",
    "To build a ggplot, we will use the following basic template that can be used for different types of plots:"
   ]
  },
  {
   "cell_type": "code",
   "execution_count": null,
   "id": "12fcfac4",
   "metadata": {},
   "outputs": [],
   "source": [
    "ggplot(data = <DATA>, mapping = aes(<MAPPINGS>)) +  <GEOM_FUNCTION>()"
   ]
  },
  {
   "cell_type": "code",
   "execution_count": null,
   "id": "df899c17",
   "metadata": {},
   "outputs": [],
   "source": [
    "ggplot(data = surveys_complete, mapping = aes(x = weight, y = hindfoot_length))"
   ]
  },
  {
   "cell_type": "markdown",
   "id": "25264b57",
   "metadata": {},
   "source": [
    "# add ‘geoms’ – graphical\n",
    "\n",
    "representations of the data in the plot (points, lines, bars). ggplot2 offers many different geoms; we will use some common ones today, including:\n",
    "\n",
    "geom_point() for scatter plots, dot plots, etc.\n",
    "\n",
    "geom_boxplot() for, well, boxplots!\n",
    "\n",
    "geom_line() for trend lines, time series, etc.\n",
    "\n",
    "To add a geom to the plot use + operator. Because we have two continuous variables, let’s use geom_point() first:"
   ]
  },
  {
   "cell_type": "code",
   "execution_count": null,
   "id": "86b8e638",
   "metadata": {},
   "outputs": [],
   "source": [
    "ggplot(data = surveys_complete, aes(x = weight, y = hindfoot_length)) +\n",
    "  geom_point()"
   ]
  },
  {
   "cell_type": "markdown",
   "id": "fa77be34",
   "metadata": {},
   "source": [
    "# another way "
   ]
  },
  {
   "cell_type": "code",
   "execution_count": null,
   "id": "0ae3906b",
   "metadata": {},
   "outputs": [],
   "source": [
    "# Assign plot to a variable\n",
    "surveys_plot <- ggplot(data = surveys_complete, \n",
    "                       mapping = aes(x = weight, y = hindfoot_length))\n",
    "\n",
    "# Draw the plot\n",
    "surveys_plot + \n",
    "    geom_point()"
   ]
  },
  {
   "cell_type": "code",
   "execution_count": null,
   "id": "9d1951b9",
   "metadata": {},
   "outputs": [],
   "source": [
    "ggplot(data = surveys_complete, mapping = aes(x = weight, y = hindfoot_length)) +\n",
    "    geom_point(alpha = 0.1, color = \"blue\")\n"
   ]
  },
  {
   "cell_type": "code",
   "execution_count": null,
   "id": "74129093",
   "metadata": {},
   "outputs": [],
   "source": [
    "ggplot(data = surveys_complete, mapping = aes(x = weight, y = hindfoot_length)) +\n",
    "    geom_point(alpha = 0.1, aes(color = species_id))"
   ]
  },
  {
   "cell_type": "markdown",
   "id": "b24defdc",
   "metadata": {},
   "source": [
    "# Boxplot\n",
    "We can use boxplots to visualize the distribution of weight within each species:"
   ]
  },
  {
   "cell_type": "code",
   "execution_count": null,
   "id": "662c3597",
   "metadata": {},
   "outputs": [],
   "source": [
    "ggplot(data = surveys_complete, mapping = aes(x = species_id, y = weight)) +\n",
    "    geom_boxplot()"
   ]
  },
  {
   "cell_type": "code",
   "execution_count": null,
   "id": "17307ed5",
   "metadata": {},
   "outputs": [],
   "source": [
    "ggplot(data = surveys_complete, mapping = aes(x = species_id, y = weight)) +\n",
    "    geom_boxplot(alpha = 0) +\n",
    "    geom_jitter(alpha = 0.3, color = \"tomato\")"
   ]
  },
  {
   "cell_type": "code",
   "execution_count": null,
   "id": "256e746d",
   "metadata": {},
   "outputs": [],
   "source": []
  },
  {
   "cell_type": "markdown",
   "id": "8a57754d",
   "metadata": {},
   "source": [
    "# Plotting time series data\n",
    "Let’s calculate number of counts per year for each genus. First we need to group the data and count records within each group:"
   ]
  },
  {
   "cell_type": "code",
   "execution_count": null,
   "id": "0ba2284d",
   "metadata": {},
   "outputs": [],
   "source": [
    "yearly_counts <- surveys_complete %>%\n",
    "  count(year, genus)"
   ]
  },
  {
   "cell_type": "code",
   "execution_count": null,
   "id": "417e91ae",
   "metadata": {},
   "outputs": [],
   "source": [
    "ggplot(data = yearly_counts, aes(x = year, y = n)) +\n",
    "     geom_line()"
   ]
  },
  {
   "cell_type": "code",
   "execution_count": null,
   "id": "edc4d003",
   "metadata": {},
   "outputs": [],
   "source": [
    "ggplot(data = yearly_sex_counts, \n",
    "       mapping = aes(x = year, y = n, color = sex)) +\n",
    "  geom_line() +\n",
    "  facet_grid(rows = vars(sex), cols =  vars(genus))"
   ]
  },
  {
   "cell_type": "code",
   "execution_count": null,
   "id": "d88a5ece",
   "metadata": {},
   "outputs": [],
   "source": [
    "ggplot(data = yearly_sex_counts, aes(x = year, y = n, color = sex)) +\n",
    "    geom_line() +\n",
    "    facet_wrap(vars(genus)) +\n",
    "    labs(title = \"Observed genera through time\",\n",
    "         x = \"Year of observation\",\n",
    "         y = \"Number of individuals\")"
   ]
  },
  {
   "cell_type": "code",
   "execution_count": null,
   "id": "e1844ae1",
   "metadata": {},
   "outputs": [],
   "source": []
  },
  {
   "cell_type": "markdown",
   "id": "c581cf1b",
   "metadata": {},
   "source": [
    "# histogram plot"
   ]
  },
  {
   "cell_type": "code",
   "execution_count": null,
   "id": "e15a1df6",
   "metadata": {},
   "outputs": [],
   "source": [
    "# Basic histogram\n",
    "ggplot(df, aes(x=weight)) + geom_histogram()\n",
    "\n",
    "# Change the width of bins\n",
    "ggplot(df, aes(x=weight)) + \n",
    "  geom_histogram(binwidth=1)\n",
    "\n",
    "# Change colors\n",
    "p<-ggplot(df, aes(x=weight)) + \n",
    "  geom_histogram(color=\"black\", fill=\"white\")\n",
    "p"
   ]
  },
  {
   "cell_type": "code",
   "execution_count": null,
   "id": "ad79f8b7",
   "metadata": {},
   "outputs": [],
   "source": [
    "# Change line color and fill color\n",
    "ggplot(df, aes(x=weight))+\n",
    "  geom_histogram(color=\"darkblue\", fill=\"lightblue\")"
   ]
  },
  {
   "cell_type": "markdown",
   "id": "67533def",
   "metadata": {},
   "source": [
    "# Add mean line and density plot on the histogram\n",
    "\n",
    "The histogram is plotted with density instead of count on y-axis\n",
    "\n",
    "Overlay with transparent density plot. The value of alpha controls the level of transparency"
   ]
  },
  {
   "cell_type": "code",
   "execution_count": null,
   "id": "a47c3a90",
   "metadata": {},
   "outputs": [],
   "source": [
    "# Add mean line\n",
    "p+ geom_vline(aes(xintercept=mean(weight)),\n",
    "            color=\"blue\", linetype=\"dashed\", size=1)\n",
    "# Histogram with density plot\n",
    "ggplot(df, aes(x=weight)) + \n",
    " geom_histogram(aes(y=..density..), colour=\"black\", fill=\"white\")+\n",
    " geom_density(alpha=.2, fill=\"#FF6666\") "
   ]
  },
  {
   "cell_type": "markdown",
   "id": "588d2e7c",
   "metadata": {},
   "source": [
    "# nother histogram way \n",
    "\n",
    "not shape but count"
   ]
  },
  {
   "cell_type": "code",
   "execution_count": null,
   "id": "dd1fcdcf",
   "metadata": {},
   "outputs": [],
   "source": [
    "ggplot(mydata, aes(OverTime,fill = Attrition))+\n",
    "  geom_histogram(stat=\"count\")"
   ]
  },
  {
   "cell_type": "markdown",
   "id": "14efb24e",
   "metadata": {},
   "source": [
    "# denisty plot"
   ]
  },
  {
   "cell_type": "code",
   "execution_count": null,
   "id": "b2be91dd",
   "metadata": {},
   "outputs": [],
   "source": [
    "library(ggplot2)\n",
    "# Basic density\n",
    "p <- ggplot(df, aes(x=weight)) + \n",
    "  geom_density()\n",
    "p\n",
    "# Add mean line\n",
    "p+ geom_vline(aes(xintercept=mean(weight)),\n",
    "            color=\"blue\", linetype=\"dashed\", size=1)"
   ]
  },
  {
   "cell_type": "markdown",
   "id": "75309a71",
   "metadata": {},
   "source": [
    "# Change density plot line types and colors"
   ]
  },
  {
   "cell_type": "code",
   "execution_count": null,
   "id": "319d23b4",
   "metadata": {},
   "outputs": [],
   "source": [
    "# Change line color and fill color\n",
    "ggplot(df, aes(x=weight))+\n",
    "  geom_density(color=\"darkblue\", fill=\"lightblue\")\n",
    "# Change line type\n",
    "ggplot(df, aes(x=weight))+\n",
    "  geom_density(linetype=\"dashed\")"
   ]
  },
  {
   "cell_type": "markdown",
   "id": "6a86341b",
   "metadata": {},
   "source": [
    "# Create barplots"
   ]
  },
  {
   "cell_type": "code",
   "execution_count": null,
   "id": "befbc0b0",
   "metadata": {},
   "outputs": [],
   "source": [
    "library(ggplot2)\n",
    "# Basic barplot\n",
    "p<-ggplot(data=df, aes(x=dose, y=len)) +\n",
    "  geom_bar(stat=\"identity\")\n",
    "p\n",
    "   \n",
    "# Horizontal bar plot\n",
    "p + coord_flip()"
   ]
  },
  {
   "cell_type": "markdown",
   "id": "10107748",
   "metadata": {},
   "source": [
    "# Change the width and the color of bars :"
   ]
  },
  {
   "cell_type": "code",
   "execution_count": null,
   "id": "293e14be",
   "metadata": {},
   "outputs": [],
   "source": [
    "# Change the width of bars\n",
    "ggplot(data=df, aes(x=dose, y=len)) +\n",
    "  geom_bar(stat=\"identity\", width=0.5)\n",
    "# Change colors\n",
    "ggplot(data=df, aes(x=dose, y=len)) +\n",
    "  geom_bar(stat=\"identity\", color=\"blue\", fill=\"white\")\n",
    "# Minimal theme + blue fill color\n",
    "p<-ggplot(data=df, aes(x=dose, y=len)) +\n",
    "  geom_bar(stat=\"identity\", fill=\"steelblue\")+\n",
    "  theme_minimal()\n",
    "p"
   ]
  },
  {
   "cell_type": "code",
   "execution_count": null,
   "id": "ac09fef3",
   "metadata": {},
   "outputs": [],
   "source": [
    "# Change barplot fill colors by groups\n",
    "p<-ggplot(df, aes(x=dose, y=len, fill=dose)) +\n",
    "  geom_bar(stat=\"identity\")+theme_minimal()\n",
    "p"
   ]
  },
  {
   "cell_type": "markdown",
   "id": "cb6ffe84",
   "metadata": {},
   "source": [
    "A stacked barplot is created by default. You can use the function position_dodge() to change this. The barplot fill color is controlled by the levels of dose :"
   ]
  },
  {
   "cell_type": "code",
   "execution_count": null,
   "id": "084983ec",
   "metadata": {},
   "outputs": [],
   "source": [
    "# Stacked barplot with multiple groups\n",
    "ggplot(data=df2, aes(x=dose, y=len, fill=supp)) +\n",
    "  geom_bar(stat=\"identity\")\n",
    "# Use position=position_dodge()\n",
    "ggplot(data=df2, aes(x=dose, y=len, fill=supp)) +\n",
    "geom_bar(stat=\"identity\", position=position_dodge())"
   ]
  },
  {
   "cell_type": "markdown",
   "id": "3b28de06",
   "metadata": {},
   "source": [
    "#  simple parameter"
   ]
  },
  {
   "cell_type": "code",
   "execution_count": null,
   "id": "0a56e152",
   "metadata": {},
   "outputs": [],
   "source": [
    "ggtitle(label) # for the main title\n",
    "xlab(label) # for the x axis label\n",
    "ylab(label) # for the y axis label\n",
    "labs(...) # for the main title, axis labels and legend titles"
   ]
  },
  {
   "cell_type": "code",
   "execution_count": null,
   "id": "cbca4b3c",
   "metadata": {},
   "outputs": [],
   "source": [
    "library(ggplot2)\n",
    "p <- ggplot(ToothGrowth, aes(x=dose, y=len)) + geom_boxplot()\n",
    "p"
   ]
  },
  {
   "cell_type": "code",
   "execution_count": null,
   "id": "1eea5f4e",
   "metadata": {},
   "outputs": [],
   "source": [
    "p + ggtitle(\"Plot of length \\n by dose\") +\n",
    "  xlab(\"Dose (mg)\") + ylab(\"Teeth length\")"
   ]
  },
  {
   "cell_type": "code",
   "execution_count": null,
   "id": "e09d0a3c",
   "metadata": {},
   "outputs": [],
   "source": []
  },
  {
   "cell_type": "code",
   "execution_count": null,
   "id": "0584495e",
   "metadata": {},
   "outputs": [],
   "source": []
  },
  {
   "cell_type": "code",
   "execution_count": null,
   "id": "fc55a4f6",
   "metadata": {},
   "outputs": [],
   "source": []
  },
  {
   "cell_type": "code",
   "execution_count": null,
   "id": "15210f2c",
   "metadata": {},
   "outputs": [],
   "source": []
  },
  {
   "cell_type": "code",
   "execution_count": null,
   "id": "6a1e0ce6",
   "metadata": {},
   "outputs": [],
   "source": []
  }
 ],
 "metadata": {
  "kernelspec": {
   "display_name": "R",
   "language": "R",
   "name": "ir"
  },
  "language_info": {
   "codemirror_mode": "r",
   "file_extension": ".r",
   "mimetype": "text/x-r-source",
   "name": "R",
   "pygments_lexer": "r",
   "version": "3.6.1"
  }
 },
 "nbformat": 4,
 "nbformat_minor": 5
}
