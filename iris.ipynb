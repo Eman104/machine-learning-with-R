{
 "cells": [
  {
   "cell_type": "code",
   "execution_count": 40,
   "id": "b2aff8d8",
   "metadata": {},
   "outputs": [
    {
     "data": {
      "text/html": [
       "<table>\n",
       "<thead><tr><th scope=col>V1</th><th scope=col>V2</th><th scope=col>V3</th><th scope=col>V4</th><th scope=col>V5</th><th scope=col>V6</th></tr></thead>\n",
       "<tbody>\n",
       "\t<tr><td>Id           </td><td>SepalLengthCm</td><td>SepalWidthCm </td><td>PetalLengthCm</td><td>PetalWidthCm </td><td>Species      </td></tr>\n",
       "\t<tr><td>1            </td><td>5.1          </td><td>3.5          </td><td>1.4          </td><td>0.2          </td><td>Iris-setosa  </td></tr>\n",
       "\t<tr><td>2            </td><td>4.9          </td><td>3.0          </td><td>1.4          </td><td>0.2          </td><td>Iris-setosa  </td></tr>\n",
       "\t<tr><td>3            </td><td>4.7          </td><td>3.2          </td><td>1.3          </td><td>0.2          </td><td>Iris-setosa  </td></tr>\n",
       "\t<tr><td>4            </td><td>4.6          </td><td>3.1          </td><td>1.5          </td><td>0.2          </td><td>Iris-setosa  </td></tr>\n",
       "\t<tr><td>5            </td><td>5.0          </td><td>3.6          </td><td>1.4          </td><td>0.2          </td><td>Iris-setosa  </td></tr>\n",
       "</tbody>\n",
       "</table>\n"
      ],
      "text/latex": [
       "\\begin{tabular}{r|llllll}\n",
       " V1 & V2 & V3 & V4 & V5 & V6\\\\\n",
       "\\hline\n",
       "\t Id            & SepalLengthCm & SepalWidthCm  & PetalLengthCm & PetalWidthCm  & Species      \\\\\n",
       "\t 1             & 5.1           & 3.5           & 1.4           & 0.2           & Iris-setosa  \\\\\n",
       "\t 2             & 4.9           & 3.0           & 1.4           & 0.2           & Iris-setosa  \\\\\n",
       "\t 3             & 4.7           & 3.2           & 1.3           & 0.2           & Iris-setosa  \\\\\n",
       "\t 4             & 4.6           & 3.1           & 1.5           & 0.2           & Iris-setosa  \\\\\n",
       "\t 5             & 5.0           & 3.6           & 1.4           & 0.2           & Iris-setosa  \\\\\n",
       "\\end{tabular}\n"
      ],
      "text/markdown": [
       "\n",
       "| V1 | V2 | V3 | V4 | V5 | V6 |\n",
       "|---|---|---|---|---|---|\n",
       "| Id            | SepalLengthCm | SepalWidthCm  | PetalLengthCm | PetalWidthCm  | Species       |\n",
       "| 1             | 5.1           | 3.5           | 1.4           | 0.2           | Iris-setosa   |\n",
       "| 2             | 4.9           | 3.0           | 1.4           | 0.2           | Iris-setosa   |\n",
       "| 3             | 4.7           | 3.2           | 1.3           | 0.2           | Iris-setosa   |\n",
       "| 4             | 4.6           | 3.1           | 1.5           | 0.2           | Iris-setosa   |\n",
       "| 5             | 5.0           | 3.6           | 1.4           | 0.2           | Iris-setosa   |\n",
       "\n"
      ],
      "text/plain": [
       "  V1 V2            V3           V4            V5           V6         \n",
       "1 Id SepalLengthCm SepalWidthCm PetalLengthCm PetalWidthCm Species    \n",
       "2 1  5.1           3.5          1.4           0.2          Iris-setosa\n",
       "3 2  4.9           3.0          1.4           0.2          Iris-setosa\n",
       "4 3  4.7           3.2          1.3           0.2          Iris-setosa\n",
       "5 4  4.6           3.1          1.5           0.2          Iris-setosa\n",
       "6 5  5.0           3.6          1.4           0.2          Iris-setosa"
      ]
     },
     "metadata": {},
     "output_type": "display_data"
    }
   ],
   "source": [
    "# define the filename\n",
    "filename <- \"iris.csv\"\n",
    "# load the CSV file from the local directory\n",
    "dataset <- read.csv(filename, header=FALSE)\n",
    "head(dataset)"
   ]
  },
  {
   "cell_type": "code",
   "execution_count": 41,
   "id": "6722f17d",
   "metadata": {},
   "outputs": [
    {
     "data": {
      "text/html": [
       "<ol class=list-inline>\n",
       "\t<li>151</li>\n",
       "\t<li>6</li>\n",
       "</ol>\n"
      ],
      "text/latex": [
       "\\begin{enumerate*}\n",
       "\\item 151\n",
       "\\item 6\n",
       "\\end{enumerate*}\n"
      ],
      "text/markdown": [
       "1. 151\n",
       "2. 6\n",
       "\n",
       "\n"
      ],
      "text/plain": [
       "[1] 151   6"
      ]
     },
     "metadata": {},
     "output_type": "display_data"
    }
   ],
   "source": [
    "dim(dataset)"
   ]
  },
  {
   "cell_type": "code",
   "execution_count": 42,
   "id": "6d046be0",
   "metadata": {},
   "outputs": [],
   "source": [
    "# set the column names in the dataset\n",
    "colnames(dataset) <- c(\"id\",\"Sepal.Length\",\"Sepal.Width\",\"Petal.Length\",\"Petal.Width\",\"Species\")\n"
   ]
  },
  {
   "cell_type": "markdown",
   "id": "60a4ea95",
   "metadata": {},
   "source": [
    "2.3. Create a Validation Dataset\n",
    "\n",
    "We need to know that the model we created is any good.\n",
    "\n",
    "Later, we will use statistical methods to estimate the accuracy of the models that we create on unseen data. We also want a more concrete estimate of the accuracy of the best model on unseen data by evaluating it on actual unseen data.\n",
    "That is, we are going to hold back some data that the algorithms will not get to see and we will use this data to get a second and independent idea of how accurate the best model might actually be.\n",
    "\n",
    "We will split the loaded dataset into two, 80% of which we will use to train our models and 20% that we will hold back as a validation dataset."
   ]
  },
  {
   "cell_type": "code",
   "execution_count": 43,
   "id": "111a10f3",
   "metadata": {},
   "outputs": [],
   "source": [
    "library(caret)"
   ]
  },
  {
   "cell_type": "code",
   "execution_count": 44,
   "id": "c3c6c117",
   "metadata": {},
   "outputs": [
    {
     "name": "stderr",
     "output_type": "stream",
     "text": [
      "Warning message in createDataPartition(dataset$Species, p = 0.8, list = FALSE):\n",
      "\"Some classes have a single record ( Species ) and these will be selected for the sample\""
     ]
    }
   ],
   "source": [
    "# create a list of 80% of the rows in the original dataset we can use for training\n",
    "validation_index <- createDataPartition(dataset$Species, p=0.80, list=FALSE)\n"
   ]
  },
  {
   "cell_type": "code",
   "execution_count": 45,
   "id": "6875fcfb",
   "metadata": {},
   "outputs": [
    {
     "data": {
      "text/html": [
       "<ol class=list-inline>\n",
       "\t<li>30</li>\n",
       "\t<li>6</li>\n",
       "</ol>\n"
      ],
      "text/latex": [
       "\\begin{enumerate*}\n",
       "\\item 30\n",
       "\\item 6\n",
       "\\end{enumerate*}\n"
      ],
      "text/markdown": [
       "1. 30\n",
       "2. 6\n",
       "\n",
       "\n"
      ],
      "text/plain": [
       "[1] 30  6"
      ]
     },
     "metadata": {},
     "output_type": "display_data"
    }
   ],
   "source": [
    "# select 20% of the data for validation\n",
    "validation <- dataset[-validation_index,]\n",
    "dim(validation)"
   ]
  },
  {
   "cell_type": "code",
   "execution_count": 46,
   "id": "d06fa31b",
   "metadata": {},
   "outputs": [
    {
     "data": {
      "text/html": [
       "<ol class=list-inline>\n",
       "\t<li>121</li>\n",
       "\t<li>6</li>\n",
       "</ol>\n"
      ],
      "text/latex": [
       "\\begin{enumerate*}\n",
       "\\item 121\n",
       "\\item 6\n",
       "\\end{enumerate*}\n"
      ],
      "text/markdown": [
       "1. 121\n",
       "2. 6\n",
       "\n",
       "\n"
      ],
      "text/plain": [
       "[1] 121   6"
      ]
     },
     "metadata": {},
     "output_type": "display_data"
    }
   ],
   "source": [
    "# use the remaining 80% of data to training and testing the models\n",
    "dataset <- dataset[validation_index,]\n",
    "dim(dataset)"
   ]
  },
  {
   "cell_type": "markdown",
   "id": "9513a2b4",
   "metadata": {},
   "source": [
    "3.2 Types of Attributes\n",
    "\n",
    "It is a good idea to get an idea of the types of the attributes. They could be doubles, integers, strings, factors and other types.\n",
    "\n",
    "Knowing the types is important as it will give you an idea of how to better summarize the data you have and the types of transforms you might need to use to prepare the data before you model it."
   ]
  },
  {
   "cell_type": "code",
   "execution_count": 47,
   "id": "19df01d3",
   "metadata": {},
   "outputs": [
    {
     "data": {
      "text/html": [
       "<dl class=dl-horizontal>\n",
       "\t<dt>id</dt>\n",
       "\t\t<dd>'factor'</dd>\n",
       "\t<dt>Sepal.Length</dt>\n",
       "\t\t<dd>'factor'</dd>\n",
       "\t<dt>Sepal.Width</dt>\n",
       "\t\t<dd>'factor'</dd>\n",
       "\t<dt>Petal.Length</dt>\n",
       "\t\t<dd>'factor'</dd>\n",
       "\t<dt>Petal.Width</dt>\n",
       "\t\t<dd>'factor'</dd>\n",
       "\t<dt>Species</dt>\n",
       "\t\t<dd>'factor'</dd>\n",
       "</dl>\n"
      ],
      "text/latex": [
       "\\begin{description*}\n",
       "\\item[id] 'factor'\n",
       "\\item[Sepal.Length] 'factor'\n",
       "\\item[Sepal.Width] 'factor'\n",
       "\\item[Petal.Length] 'factor'\n",
       "\\item[Petal.Width] 'factor'\n",
       "\\item[Species] 'factor'\n",
       "\\end{description*}\n"
      ],
      "text/markdown": [
       "id\n",
       ":   'factor'Sepal.Length\n",
       ":   'factor'Sepal.Width\n",
       ":   'factor'Petal.Length\n",
       ":   'factor'Petal.Width\n",
       ":   'factor'Species\n",
       ":   'factor'\n",
       "\n"
      ],
      "text/plain": [
       "          id Sepal.Length  Sepal.Width Petal.Length  Petal.Width      Species \n",
       "    \"factor\"     \"factor\"     \"factor\"     \"factor\"     \"factor\"     \"factor\" "
      ]
     },
     "metadata": {},
     "output_type": "display_data"
    }
   ],
   "source": [
    "\n",
    "# list types for each attribute\n",
    "sapply(dataset, class)"
   ]
  },
  {
   "cell_type": "code",
   "execution_count": 48,
   "id": "d7bd209e",
   "metadata": {},
   "outputs": [
    {
     "data": {
      "text/html": [
       "<table>\n",
       "<thead><tr><th scope=col>id</th><th scope=col>Sepal.Length</th><th scope=col>Sepal.Width</th><th scope=col>Petal.Length</th><th scope=col>Petal.Width</th><th scope=col>Species</th></tr></thead>\n",
       "<tbody>\n",
       "\t<tr><td>Id           </td><td>SepalLengthCm</td><td>SepalWidthCm </td><td>PetalLengthCm</td><td>PetalWidthCm </td><td>Species      </td></tr>\n",
       "\t<tr><td>1            </td><td>5.1          </td><td>3.5          </td><td>1.4          </td><td>0.2          </td><td>Iris-setosa  </td></tr>\n",
       "\t<tr><td>2            </td><td>4.9          </td><td>3.0          </td><td>1.4          </td><td>0.2          </td><td>Iris-setosa  </td></tr>\n",
       "\t<tr><td>3            </td><td>4.7          </td><td>3.2          </td><td>1.3          </td><td>0.2          </td><td>Iris-setosa  </td></tr>\n",
       "\t<tr><td>4            </td><td>4.6          </td><td>3.1          </td><td>1.5          </td><td>0.2          </td><td>Iris-setosa  </td></tr>\n",
       "\t<tr><td>5            </td><td>5.0          </td><td>3.6          </td><td>1.4          </td><td>0.2          </td><td>Iris-setosa  </td></tr>\n",
       "</tbody>\n",
       "</table>\n"
      ],
      "text/latex": [
       "\\begin{tabular}{r|llllll}\n",
       " id & Sepal.Length & Sepal.Width & Petal.Length & Petal.Width & Species\\\\\n",
       "\\hline\n",
       "\t Id            & SepalLengthCm & SepalWidthCm  & PetalLengthCm & PetalWidthCm  & Species      \\\\\n",
       "\t 1             & 5.1           & 3.5           & 1.4           & 0.2           & Iris-setosa  \\\\\n",
       "\t 2             & 4.9           & 3.0           & 1.4           & 0.2           & Iris-setosa  \\\\\n",
       "\t 3             & 4.7           & 3.2           & 1.3           & 0.2           & Iris-setosa  \\\\\n",
       "\t 4             & 4.6           & 3.1           & 1.5           & 0.2           & Iris-setosa  \\\\\n",
       "\t 5             & 5.0           & 3.6           & 1.4           & 0.2           & Iris-setosa  \\\\\n",
       "\\end{tabular}\n"
      ],
      "text/markdown": [
       "\n",
       "| id | Sepal.Length | Sepal.Width | Petal.Length | Petal.Width | Species |\n",
       "|---|---|---|---|---|---|\n",
       "| Id            | SepalLengthCm | SepalWidthCm  | PetalLengthCm | PetalWidthCm  | Species       |\n",
       "| 1             | 5.1           | 3.5           | 1.4           | 0.2           | Iris-setosa   |\n",
       "| 2             | 4.9           | 3.0           | 1.4           | 0.2           | Iris-setosa   |\n",
       "| 3             | 4.7           | 3.2           | 1.3           | 0.2           | Iris-setosa   |\n",
       "| 4             | 4.6           | 3.1           | 1.5           | 0.2           | Iris-setosa   |\n",
       "| 5             | 5.0           | 3.6           | 1.4           | 0.2           | Iris-setosa   |\n",
       "\n"
      ],
      "text/plain": [
       "  id Sepal.Length  Sepal.Width  Petal.Length  Petal.Width  Species    \n",
       "1 Id SepalLengthCm SepalWidthCm PetalLengthCm PetalWidthCm Species    \n",
       "2 1  5.1           3.5          1.4           0.2          Iris-setosa\n",
       "3 2  4.9           3.0          1.4           0.2          Iris-setosa\n",
       "4 3  4.7           3.2          1.3           0.2          Iris-setosa\n",
       "5 4  4.6           3.1          1.5           0.2          Iris-setosa\n",
       "6 5  5.0           3.6          1.4           0.2          Iris-setosa"
      ]
     },
     "metadata": {},
     "output_type": "display_data"
    }
   ],
   "source": [
    "\n",
    "# take a peek at the first 5 rows of the data\n",
    "head(dataset)"
   ]
  },
  {
   "cell_type": "markdown",
   "id": "57e11b07",
   "metadata": {},
   "source": [
    "3.4 Levels of the Class\n",
    "\n",
    "The class variable is a factor. A factor is a class that has multiple class labels or levels. Let’s look at the levels:"
   ]
  },
  {
   "cell_type": "code",
   "execution_count": 49,
   "id": "faa7a181",
   "metadata": {},
   "outputs": [
    {
     "data": {
      "text/html": [
       "<ol class=list-inline>\n",
       "\t<li>'Iris-setosa'</li>\n",
       "\t<li>'Iris-versicolor'</li>\n",
       "\t<li>'Iris-virginica'</li>\n",
       "\t<li>'Species'</li>\n",
       "</ol>\n"
      ],
      "text/latex": [
       "\\begin{enumerate*}\n",
       "\\item 'Iris-setosa'\n",
       "\\item 'Iris-versicolor'\n",
       "\\item 'Iris-virginica'\n",
       "\\item 'Species'\n",
       "\\end{enumerate*}\n"
      ],
      "text/markdown": [
       "1. 'Iris-setosa'\n",
       "2. 'Iris-versicolor'\n",
       "3. 'Iris-virginica'\n",
       "4. 'Species'\n",
       "\n",
       "\n"
      ],
      "text/plain": [
       "[1] \"Iris-setosa\"     \"Iris-versicolor\" \"Iris-virginica\"  \"Species\"        "
      ]
     },
     "metadata": {},
     "output_type": "display_data"
    }
   ],
   "source": [
    "# list the levels for the class\n",
    "levels(dataset$Species)"
   ]
  },
  {
   "cell_type": "markdown",
   "id": "e149ffe6",
   "metadata": {},
   "source": [
    "3.5 Class Distribution\n",
    "\n",
    "Let’s now take a look at the number of instances (rows) that belong to each class. We can view this as an absolute count and as a percentage."
   ]
  },
  {
   "cell_type": "code",
   "execution_count": 50,
   "id": "9efc4d32",
   "metadata": {},
   "outputs": [
    {
     "data": {
      "text/html": [
       "<table>\n",
       "<thead><tr><th></th><th scope=col>freq</th><th scope=col>percentage</th></tr></thead>\n",
       "<tbody>\n",
       "\t<tr><th scope=row>Iris-setosa</th><td>40        </td><td>33.0578512</td></tr>\n",
       "\t<tr><th scope=row>Iris-versicolor</th><td>40        </td><td>33.0578512</td></tr>\n",
       "\t<tr><th scope=row>Iris-virginica</th><td>40        </td><td>33.0578512</td></tr>\n",
       "\t<tr><th scope=row>Species</th><td> 1        </td><td> 0.8264463</td></tr>\n",
       "</tbody>\n",
       "</table>\n"
      ],
      "text/latex": [
       "\\begin{tabular}{r|ll}\n",
       "  & freq & percentage\\\\\n",
       "\\hline\n",
       "\tIris-setosa & 40         & 33.0578512\\\\\n",
       "\tIris-versicolor & 40         & 33.0578512\\\\\n",
       "\tIris-virginica & 40         & 33.0578512\\\\\n",
       "\tSpecies &  1         &  0.8264463\\\\\n",
       "\\end{tabular}\n"
      ],
      "text/markdown": [
       "\n",
       "| <!--/--> | freq | percentage |\n",
       "|---|---|---|\n",
       "| Iris-setosa | 40         | 33.0578512 |\n",
       "| Iris-versicolor | 40         | 33.0578512 |\n",
       "| Iris-virginica | 40         | 33.0578512 |\n",
       "| Species |  1         |  0.8264463 |\n",
       "\n"
      ],
      "text/plain": [
       "                freq percentage\n",
       "Iris-setosa     40   33.0578512\n",
       "Iris-versicolor 40   33.0578512\n",
       "Iris-virginica  40   33.0578512\n",
       "Species          1    0.8264463"
      ]
     },
     "metadata": {},
     "output_type": "display_data"
    }
   ],
   "source": [
    "# summarize the class distribution\n",
    "percentage <- prop.table(table(dataset$Species)) * 100\n",
    "cbind(freq=table(dataset$Species), percentage=percentage)"
   ]
  },
  {
   "cell_type": "code",
   "execution_count": 51,
   "id": "e216de8c",
   "metadata": {},
   "outputs": [
    {
     "data": {
      "text/plain": [
       "       id       Sepal.Length  Sepal.Width  Petal.Length  Petal.Width\n",
       " 1      :  1   5.0    :10    3.0    :21   1.4    :11    0.2    :22  \n",
       " 10     :  1   6.3    : 9    2.8    :10   1.5    :10    1.3    :10  \n",
       " 101    :  1   5.1    : 7    3.1    :10   1.6    : 7    1.5    : 8  \n",
       " 104    :  1   5.5    : 7    3.2    :10   5.1    : 7    1.8    : 8  \n",
       " 105    :  1   5.7    : 6    3.4    :10   5.6    : 6    2.3    : 8  \n",
       " 11     :  1   6.7    : 6    2.7    : 7   1.3    : 5    1.4    : 7  \n",
       " (Other):115   (Other):76    (Other):53   (Other):75    (Other):58  \n",
       "            Species  \n",
       " Iris-setosa    :40  \n",
       " Iris-versicolor:40  \n",
       " Iris-virginica :40  \n",
       " Species        : 1  \n",
       "                     \n",
       "                     \n",
       "                     "
      ]
     },
     "metadata": {},
     "output_type": "display_data"
    }
   ],
   "source": [
    "summary(dataset)"
   ]
  },
  {
   "cell_type": "markdown",
   "id": "f4f47e11",
   "metadata": {},
   "source": [
    "4. Visualize Dataset\n",
    "\n",
    "We now have a basic idea about the data. We need to extend that with some visualizations.\n",
    "\n",
    "We are going to look at two types of plots:\n",
    "\n",
    "Univariate plots to better understand each attribute.\n",
    "Multivariate plots to better understand the relationships between attributes.\n",
    "\n",
    "4.1 Univariate Plots\n",
    "\n",
    "We start with some univariate plots, that is, plots of each individual variable.\n",
    "\n",
    "It is helpful with visualization to have a way to refer to just the input attributes and just the output attributes. Let’s set that up and call the inputs attributes x and the output attribute (or class) y."
   ]
  },
  {
   "cell_type": "code",
   "execution_count": 52,
   "id": "c2f951ed",
   "metadata": {},
   "outputs": [],
   "source": [
    "# split input and output\n",
    "x <- dataset[,1:4]\n",
    "y <- dataset[,5]"
   ]
  },
  {
   "cell_type": "code",
   "execution_count": 53,
   "id": "f9abb541",
   "metadata": {},
   "outputs": [
    {
     "ename": "ERROR",
     "evalue": "Error in oldClass(stats) <- cl: adding class \"factor\" to an invalid object\n",
     "output_type": "error",
     "traceback": [
      "Error in oldClass(stats) <- cl: adding class \"factor\" to an invalid object\nTraceback:\n",
      "1. boxplot(x[, i], main = names(iris)[i])",
      "2. boxplot.default(x[, i], main = names(iris)[i])"
     ]
    }
   ],
   "source": [
    "# boxplot for each attribute on one image\n",
    "par(mfrow=c(1,4))\n",
    "  for(i in 1:4) {\n",
    "  boxplot(x[,i], main=names(iris)[i])\n",
    "}"
   ]
  },
  {
   "cell_type": "code",
   "execution_count": 54,
   "id": "f5efc9d6",
   "metadata": {},
   "outputs": [
    {
     "data": {
      "image/png": "[encoded data removed]",
      "text/plain": [
       "plot without title"
      ]
     },
     "metadata": {},
     "output_type": "display_data"
    }
   ],
   "source": [
    "\n",
    "# barplot for class breakdown\n",
    "plot(y)"
   ]
  },
  {
   "cell_type": "markdown",
   "id": "6c8d626b",
   "metadata": {},
   "source": [
    "4.2 Multivariate Plots\n",
    "\n",
    "Now we can look at the interactions between the variables.\n",
    "\n",
    "First let’s look at scatterplots of all pairs of attributes and color the points by class. In addition, because the scatterplots show that points for each class are generally separate, we can draw ellipses around them."
   ]
  },
  {
   "cell_type": "code",
   "execution_count": 55,
   "id": "85bc5f02",
   "metadata": {},
   "outputs": [
    {
     "ename": "ERROR",
     "evalue": "Error in stack.data.frame(x): no vector columns were selected\n",
     "output_type": "error",
     "traceback": [
      "Error in stack.data.frame(x): no vector columns were selected\nTraceback:\n",
      "1. featurePlot(x = x, y = y, plot = \"ellipse\")",
      "2. stack(x)",
      "3. stack.data.frame(x)",
      "4. stop(\"no vector columns were selected\")"
     ]
    }
   ],
   "source": [
    "# scatterplot matrix\n",
    "featurePlot(x=x, y=y, plot=\"ellipse\")"
   ]
  },
  {
   "cell_type": "code",
   "execution_count": 56,
   "id": "f311bb57",
   "metadata": {},
   "outputs": [
    {
     "ename": "ERROR",
     "evalue": "Error in stack.data.frame(x): no vector columns were selected\n",
     "output_type": "error",
     "traceback": [
      "Error in stack.data.frame(x): no vector columns were selected\nTraceback:\n",
      "1. featurePlot(x = x, y = y, plot = \"box\")",
      "2. stack(x)",
      "3. stack.data.frame(x)",
      "4. stop(\"no vector columns were selected\")"
     ]
    }
   ],
   "source": [
    "# box and whisker plots for each attribute\n",
    "featurePlot(x=x, y=y, plot=\"box\")"
   ]
  },
  {
   "cell_type": "markdown",
   "id": "3fdff8ff",
   "metadata": {},
   "source": [
    "5. Evaluate Some Algorithms\n",
    "\n",
    "Now it is time to create some models of the data and estimate their accuracy on unseen data.\n",
    "\n",
    "Here is what we are going to cover in this step:\n",
    "\n",
    "Set-up the test harness to use 10-fold cross validation.\n",
    "Build 5 different models to predict species from flower measurements\n",
    "Select the best model.\n",
    "\n",
    "5.1 Test Harness\n",
    "\n",
    "We will 10-fold crossvalidation to estimate accuracy.\n",
    "\n",
    "This will split our dataset into 10 parts, train in 9 and test on 1 and release for all combinations of train-test splits. We will also repeat the process 3 times for each algorithm with different splits of the data into 10 groups, in an effort to get a more accurate estimate.\n",
    "\n"
   ]
  },
  {
   "cell_type": "code",
   "execution_count": null,
   "id": "f61c4c62",
   "metadata": {},
   "outputs": [],
   "source": [
    "# Run algorithms using 10-fold cross validation\n",
    "control <- trainControl(method=\"cv\", number=10)\n",
    "metric <- \"Accuracy\""
   ]
  },
  {
   "cell_type": "markdown",
   "id": "c501637b",
   "metadata": {},
   "source": [
    "5.2 Build Models\n",
    "\n",
    "We don’t know which algorithms would be good on this problem or what configurations to use. We get an idea from the plots that some of the classes are partially linearly separable in some dimensions, so we are expecting generally good results.\n",
    "\n",
    "Let’s evaluate 5 different algorithms:\n",
    "\n",
    "Linear Discriminant Analysis (LDA)\n",
    "Classification and Regression Trees (CART).\n",
    "k-Nearest Neighbors (kNN).\n",
    "Support Vector Machines (SVM) with a linear kernel.\n",
    "Random Forest (RF)\n",
    "This is a good mixture of simple linear (LDA), nonlinear (CART, kNN) and complex nonlinear methods (SVM, RF). We reset the random number seed before reach run to ensure that the evaluation of each algorithm is performed using exactly the same data splits. It ensures the results are directly comparable.\n",
    "\n",
    "Let’s build our five models:"
   ]
  },
  {
   "cell_type": "code",
   "execution_count": null,
   "id": "a477e8c3",
   "metadata": {},
   "outputs": [],
   "source": [
    "# a) linear algorithms\n",
    "set.seed(7)\n",
    "fit.lda <- train(Species~., data=dataset, method=\"lda\", metric=metric, trControl=control)\n",
    "# b) nonlinear algorithms\n",
    "# CART\n",
    "set.seed(7)\n",
    "fit.cart <- train(Species~., data=dataset, method=\"rpart\", metric=metric, trControl=control)\n",
    "# kNN\n",
    "set.seed(7)\n",
    "fit.knn <- train(Species~., data=dataset, method=\"knn\", metric=metric, trControl=control)\n",
    "# c) advanced algorithms\n",
    "# SVM\n",
    "set.seed(7)\n",
    "fit.svm <- train(Species~., data=dataset, method=\"svmRadial\", metric=metric, trControl=control)\n",
    "# Random Forest\n",
    "set.seed(7)\n",
    "fit.rf <- train(Species~., data=dataset, method=\"rf\", metric=metric, trControl=control)\n"
   ]
  },
  {
   "cell_type": "markdown",
   "id": "abe325e7",
   "metadata": {},
   "source": [
    "5.3 Select Best Model\n",
    "\n",
    "We now have 5 models and accuracy estimations for each. We need to compare the models to each other and select the most accurate.\n",
    "\n",
    "We can report on the accuracy of each model by first creating a list of the created models and using the summary function.\n",
    "\n"
   ]
  },
  {
   "cell_type": "code",
   "execution_count": null,
   "id": "73038aaf",
   "metadata": {},
   "outputs": [],
   "source": [
    "# summarize accuracy of models\n",
    "results <- resamples(list(lda=fit.lda, cart=fit.cart, knn=fit.knn, svm=fit.svm, rf=fit.rf))\n",
    "summary(results)"
   ]
  },
  {
   "cell_type": "markdown",
   "id": "5b8fe6d7",
   "metadata": {},
   "source": [
    "We can also create a plot of the model evaluation results and compare the spread and the mean accuracy of each model. There is a population of accuracy measures for each algorithm because each algorithm was evaluated 10 times (10 fold cross validation).\n",
    "\n"
   ]
  },
  {
   "cell_type": "code",
   "execution_count": null,
   "id": "db35d2c3",
   "metadata": {},
   "outputs": [],
   "source": [
    "# compare accuracy of models\n",
    "dotplot(results)"
   ]
  },
  {
   "cell_type": "code",
   "execution_count": null,
   "id": "53fa8d12",
   "metadata": {},
   "outputs": [],
   "source": [
    "\n",
    "# summarize Best Model\n",
    "print(fit.lda)"
   ]
  },
  {
   "cell_type": "markdown",
   "id": "71991b19",
   "metadata": {},
   "source": [
    "6. Make Predictions\n",
    "\n",
    "The LDA was the most accurate model. Now we want to get an idea of the accuracy of the model on our validation set.\n",
    "\n",
    "This will give us an independent final check on the accuracy of the best model. It is valuable to keep a validation set just in case you made a slip during such as overfitting to the training set or a data leak. Both will result in an overly optimistic result.\n",
    "\n",
    "We can run the LDA model directly on the validation set and summarize the results in a confusion matrix."
   ]
  },
  {
   "cell_type": "code",
   "execution_count": null,
   "id": "9280d82d",
   "metadata": {},
   "outputs": [],
   "source": [
    "\n",
    "# estimate skill of LDA on the validation dataset\n",
    "predictions <- predict(fit.lda, validation)\n",
    "confusionMatrix(predictions, validation$Species)"
   ]
  },
  {
   "cell_type": "code",
   "execution_count": null,
   "id": "89c3aa3a",
   "metadata": {},
   "outputs": [],
   "source": []
  },
  {
   "cell_type": "code",
   "execution_count": null,
   "id": "8a6cdf80",
   "metadata": {},
   "outputs": [],
   "source": []
  }
 ],
 "metadata": {
  "kernelspec": {
   "display_name": "R",
   "language": "R",
   "name": "ir"
  },
  "language_info": {
   "codemirror_mode": "r",
   "file_extension": ".r",
   "mimetype": "text/x-r-source",
   "name": "R",
   "pygments_lexer": "r",
   "version": "3.6.1"
  }
 },
 "nbformat": 4,
 "nbformat_minor": 5
}
