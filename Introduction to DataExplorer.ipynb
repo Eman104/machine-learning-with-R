{
 "cells": [
  {
   "cell_type": "markdown",
   "id": "086de42d",
   "metadata": {},
   "source": [
    "# Background\n",
    "Exploratory Data Analysis (EDA) is the initial and an important phase of data analysis/predictive modeling. During this process, analysts/modelers will have a first look of the data, and thus generate relevant hypotheses and decide next steps. However, the EDA process could be a hassle at times. This R package aims to automate most of data handling and visualization, so that users could focus on studying the data and extracting insights.\n",
    "\n",
    "# Installation\n",
    "\n",
    "The package can be installed directly from CRAN."
   ]
  },
  {
   "cell_type": "code",
   "execution_count": null,
   "id": "1fbd970f",
   "metadata": {},
   "outputs": [],
   "source": [
    "install.packages(\"DataExplorer\")"
   ]
  },
  {
   "cell_type": "markdown",
   "id": "296182eb",
   "metadata": {},
   "source": [
    "# Examples\n",
    "\n",
    "The package is extremely easy to use. Almost everything could be done in one line of code. Please refer to the package manuals for more information. You may also find the package vignettes here.\n",
    "\n",
    "Report"
   ]
  },
  {
   "cell_type": "markdown",
   "id": "c16bf72d",
   "metadata": {},
   "source": [
    "# There are 3 main goals for DataExplorer:\n",
    "\n",
    "Exploratory Data Analysis (EDA)\n",
    "\n",
    "Feature Engineering\n",
    "\n",
    "Data Reporting"
   ]
  },
  {
   "cell_type": "markdown",
   "id": "5bd2f639",
   "metadata": {},
   "source": [
    "install.packages(\"nycflights13\")\n",
    "\n",
    "library(nycflights13)\n",
    "\n",
    "There are 5 datasets in this package:\n",
    "\n",
    "airlines\n",
    "\n",
    "airports\n",
    "\n",
    "flights\n",
    "\n",
    "planes\n",
    "\n",
    "weather\n",
    "\n",
    "If you want to quickly visualize the structure of all, you may do the following:"
   ]
  },
  {
   "cell_type": "code",
   "execution_count": null,
   "id": "81b04077",
   "metadata": {},
   "outputs": [],
   "source": [
    "library(DataExplorer)\n",
    "data_list <- list(airlines, airports, flights, planes, weather)\n",
    "plot_str(data_list)"
   ]
  },
  {
   "cell_type": "markdown",
   "id": "fe7b050e",
   "metadata": {},
   "source": [
    "# Exploratory Data Analysis\n",
    "\n",
    "Exploratory data analysis is the process to get to know your data, so that you can generate and test your hypothesis. Visualization techniques are usually applied.\n",
    "\n",
    "To get introduced to your newly created dataset:\n",
    "\n",
    "asuume data name is   \n",
    "\n",
    "### final_data"
   ]
  },
  {
   "cell_type": "code",
   "execution_count": null,
   "id": "613fddea",
   "metadata": {},
   "outputs": [],
   "source": [
    "introduce(final_data)"
   ]
  },
  {
   "cell_type": "markdown",
   "id": "0c118c76",
   "metadata": {},
   "source": [
    "## Missing values\n",
    "\\\n",
    "Real-world data is messy, and you can simply use plot_missing function to visualize missing profile for each feature."
   ]
  },
  {
   "cell_type": "code",
   "execution_count": null,
   "id": "c3376966",
   "metadata": {},
   "outputs": [],
   "source": [
    "plot_missing(final_data)"
   ]
  },
  {
   "cell_type": "markdown",
   "id": "72f996fb",
   "metadata": {},
   "source": [
    "# Bar Charts\n",
    "\n",
    "To visualize frequency distributions for all discrete features:"
   ]
  },
  {
   "cell_type": "code",
   "execution_count": null,
   "id": "e28bd123",
   "metadata": {},
   "outputs": [],
   "source": [
    "plot_bar(final_data)"
   ]
  },
  {
   "cell_type": "markdown",
   "id": "b8a3ee28",
   "metadata": {},
   "source": [
    "# Histograms\n",
    "\n",
    "To visualize distributions for all continuous features:"
   ]
  },
  {
   "cell_type": "code",
   "execution_count": null,
   "id": "38318373",
   "metadata": {},
   "outputs": [],
   "source": [
    "plot_histogram(final_data)"
   ]
  },
  {
   "cell_type": "markdown",
   "id": "6b922071",
   "metadata": {},
   "source": [
    "# Correlation Analysis\n",
    "\n",
    "To visualize correlation heatmap for all non-missing features"
   ]
  },
  {
   "cell_type": "code",
   "execution_count": null,
   "id": "4115326a",
   "metadata": {},
   "outputs": [],
   "source": [
    "plot_correlation(na.omit(final_data), maxcat = 5L)"
   ]
  },
  {
   "cell_type": "markdown",
   "id": "c0ecb7f6",
   "metadata": {},
   "source": [
    "# Boxplots\n",
    "\n",
    "Suppose you would like to build a model to predict arrival delays, you may visualize the distribution of all continuous features based on arrival delays with a boxplot:"
   ]
  },
  {
   "cell_type": "code",
   "execution_count": null,
   "id": "e004fa8c",
   "metadata": {},
   "outputs": [],
   "source": [
    "## Reduce data size for demo purpose\n",
    "arr_delay_df <- final_data[, c(\"arr_delay\", \"month\", \"day\", \"hour\", \"minute\", \"dep_delay\", \"distance\", \"year_planes\", \"seats\")]\n",
    "\n",
    "## Call boxplot function\n",
    "plot_boxplot(arr_delay_df, by = \"arr_delay\")"
   ]
  },
  {
   "cell_type": "markdown",
   "id": "4ef4a754",
   "metadata": {},
   "source": [
    "# Scatterplots\n",
    "\n",
    "An alternative visualization is scatterplot. For example:"
   ]
  },
  {
   "cell_type": "code",
   "execution_count": null,
   "id": "5a968200",
   "metadata": {},
   "outputs": [],
   "source": [
    "arr_delay_df2 <- final_data[, c(\"arr_delay\", \"dep_time\", \"dep_delay\", \"arr_time\", \"air_time\", \"distance\", \"year_planes\", \"seats\")]\n",
    "\n",
    "plot_scatterplot(arr_delay_df2, by = \"arr_delay\", sampled_rows = 1000L)"
   ]
  },
  {
   "cell_type": "markdown",
   "id": "6459f653",
   "metadata": {},
   "source": [
    "# Replace missing values\n",
    "\n",
    "Missing values may have meanings for a feature. \n",
    "\n",
    "Other than imputation methods, we may also set them to some logical values. For example, for discrete features, we may want to group missing values to a new category. For continuous features, we may want to set missing values to a known number based on existing knowledge.\n",
    "\n",
    "In DataExplorer, this can be done by set_missing. The function automatically matches the argument for either discrete or continuous features, i.e., if you specify a number, all missing continuous values will be set to that number. If you specify a string, all missing discrete values will be set to that string. If you supply both, both types will be set."
   ]
  },
  {
   "cell_type": "code",
   "execution_count": null,
   "id": "23d25a7e",
   "metadata": {},
   "outputs": [],
   "source": [
    "## Return data.frame\n",
    "final_df <- set_missing(final_data, list(0L, \"unknown\"))"
   ]
  },
  {
   "cell_type": "markdown",
   "id": "713a8176",
   "metadata": {},
   "source": [
    "# Dummify data (one hot encoding)\n",
    "\n",
    "To transform the data into binary format (so that ML algorithms can pick it up), dummify will do the job. The function preserves original data structure, so that only eligible discrete features will be turned into binary format."
   ]
  },
  {
   "cell_type": "code",
   "execution_count": null,
   "id": "fcade956",
   "metadata": {},
   "outputs": [],
   "source": [
    "plot_str(\n",
    "  list(\n",
    "    \"original\" = final_data,\n",
    "    \"dummified\" = dummify(final_data, maxcat = 5L)\n",
    "  )\n",
    ")"
   ]
  },
  {
   "cell_type": "markdown",
   "id": "a9937bfa",
   "metadata": {},
   "source": [
    "# Drop features\n",
    "\n",
    "After viewing the feature distribution, you often want to drop features that are insignificant. For example, features like dst_dest has mostly one value, and it doesn’t provide any valuable information. You can use drop_columns to quickly drop features. The function takes either names or column indices."
   ]
  },
  {
   "cell_type": "code",
   "execution_count": null,
   "id": "a11379a8",
   "metadata": {},
   "outputs": [],
   "source": [
    "identical(\n",
    "  drop_columns(final_data, c(\"dst_dest\", \"tzone_dest\")),\n",
    "  drop_columns(final_data, c(36, 37))\n",
    ")"
   ]
  }
 ],
 "metadata": {
  "kernelspec": {
   "display_name": "R",
   "language": "R",
   "name": "ir"
  },
  "language_info": {
   "codemirror_mode": "r",
   "file_extension": ".r",
   "mimetype": "text/x-r-source",
   "name": "R",
   "pygments_lexer": "r",
   "version": "3.6.1"
  }
 },
 "nbformat": 4,
 "nbformat_minor": 5
}
