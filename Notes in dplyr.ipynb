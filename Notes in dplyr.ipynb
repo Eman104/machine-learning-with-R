{
 "cells": [
  {
   "cell_type": "markdown",
   "id": "298918f3",
   "metadata": {},
   "source": [
    "# dplyr\n",
    "\n",
    "Overview\n",
    "dplyr is a grammar of data manipulation, providing a consistent set of verbs that help you solve the most common data manipulation challenges:\n",
    "\n",
    "mutate() adds new variables that are functions of existing variables\n",
    "\n",
    "select() picks variables based on their names.\n",
    "\n",
    "filter() picks cases based on their values.\n",
    "\n",
    "summarise() reduces multiple values down to a single summary.\n",
    "\n",
    "arrange() changes the ordering of the rows."
   ]
  },
  {
   "cell_type": "markdown",
   "id": "de9a3de9",
   "metadata": {},
   "source": [
    "# Data manipulation using dplyr\n",
    "\n",
    "Learning Objectives\n",
    "Describe what the dplyr package in R is used for.\n",
    "Apply common dplyr functions to manipulate data in R.\n",
    "Employ the ‘pipe’ operator to link together a sequence of functions.\n",
    "Employ the ‘mutate’ function to apply other chosen functions to existing columns and create new columns of data.\n",
    "Employ the ‘split-apply-combine’ concept to split the data into groups, apply analysis to each group, and combine the results.\n",
    "Bracket subsetting is handy, but it can be cumbersome and difficult to read, especially for complicated operations.\n",
    "\n",
    "Enter dplyr.\n",
    "\n",
    "dplyr is a package for making data manipulation easier.\n",
    "\n",
    "Packages in R are basically sets of additional functions that let you do more stuff in R. The functions we’ve been using, like str(), come built into R; packages give you access to more functions. You need to install a package and then load it to be able to use it."
   ]
  },
  {
   "cell_type": "markdown",
   "id": "1172f718",
   "metadata": {},
   "source": [
    "# What is dplyr?\n",
    "\n",
    "The package dplyr is a fairly new (2014) package that tries to provide easy tools for the most common data manipulation tasks. It is built to work directly with data frames. The thinking behind it was largely inspired by the package plyr which has been in use for some time but suffered from being slow in some cases.dplyr addresses this by porting much of the computation to C++. An additional feature is the ability to work with data stored directly in an external database. The benefits of doing this are that the data can be managed natively in a relational database, queries can be conducted on that database, and only the results of the query returned.\n",
    "\n",
    "This addresses a common problem with R in that all operations are conducted in memory and thus the amount of data you can work with is limited by available memory. The database connections essentially remove that limitation in that you can have a database of many 100s GB, conduct queries on it directly and pull back just what you need for analysis in R.\n",
    "\n",
    "# Selecting columns and filtering rows\n",
    "\n",
    "We’re going to learn some of the most common dplyr functions: select(), filter(), mutate(), group_by(), and summarize(). To select columns of a data frame, use select(). The first argument to this function is the data frame (metadata), and the subsequent arguments are the columns to keep."
   ]
  },
  {
   "cell_type": "code",
   "execution_count": null,
   "id": "23ccb81a",
   "metadata": {},
   "outputs": [],
   "source": [
    "select(metadata, sample, clade, cit, genome_size)"
   ]
  },
  {
   "cell_type": "code",
   "execution_count": null,
   "id": "6692f2e9",
   "metadata": {},
   "outputs": [],
   "source": [
    "filter(metadata, cit == \"plus\")"
   ]
  },
  {
   "cell_type": "markdown",
   "id": "737eb9d0",
   "metadata": {},
   "source": [
    "# this should be the outpot\n"
   ]
  },
  {
   "cell_type": "code",
   "execution_count": null,
   "id": "39c93009",
   "metadata": {},
   "outputs": [],
   "source": [
    "##     sample generation clade strain  cit       run genome_size\n",
    "## 1   ZDB564      31500  Cit+ REL606 plus SRR098289        4.74\n",
    "## 2   ZDB172      32000  Cit+ REL606 plus SRR098042        4.77\n",
    "## 3   ZDB143      32500  Cit+ REL606 plus SRR098040        4.79\n",
    "## 4   CZB152      33000  Cit+ REL606 plus SRR097977        4.80\n",
    "## 5   CZB154      33000  Cit+ REL606 plus SRR098026        4.76\n",
    "## 6    ZDB87      34000    C2 REL606 plus SRR098035        4.75\n",
    "## 7    ZDB96      36000  Cit+ REL606 plus SRR098036        4.74\n",
    "## 8   ZDB107      38000  Cit+ REL606 plus SRR098038        4.79\n",
    "## 9 REL10979      40000  Cit+ REL606 plus SRR098029        4.78\n"
   ]
  },
  {
   "cell_type": "markdown",
   "id": "1b4f53a1",
   "metadata": {},
   "source": [
    "# Pipes\n",
    "\n",
    "But what if you wanted to select and filter? There are three ways to do this: use intermediate steps, nested functions, or pipes.\n",
    "\n",
    "With the intermediate steps, you essentially create a temporary data frame and use that as input to the next function. This can clutter up your workspace with lots of objects. You can also nest functions (i.e. one function inside of another). \n",
    "\n",
    "This is handy, but can be difficult to read if too many functions are nested as the process from inside out. The last option, pipes, are a fairly recent addition to R. Pipes let you take the output of one function and send it directly to the next, which is useful when you need to many things to the same data set. Pipes in R look like %>% and are made available via the magrittr package installed as part of dplyr."
   ]
  },
  {
   "cell_type": "code",
   "execution_count": null,
   "id": "f5f2e79b",
   "metadata": {},
   "outputs": [],
   "source": [
    "metadata %>%\n",
    "  filter(cit == \"plus\") %>%\n",
    "  select(sample, generation, clade)"
   ]
  },
  {
   "cell_type": "code",
   "execution_count": null,
   "id": "00887cd6",
   "metadata": {},
   "outputs": [],
   "source": [
    "meta_citplus <- metadata %>%\n",
    "  filter(cit == \"plus\") %>%\n",
    "  select(sample, generation, clade)\n",
    "\n",
    "meta_citplus"
   ]
  },
  {
   "cell_type": "code",
   "execution_count": null,
   "id": "118f7c1c",
   "metadata": {},
   "outputs": [],
   "source": []
  },
  {
   "cell_type": "markdown",
   "id": "33ada545",
   "metadata": {},
   "source": [
    "# Mutate\n",
    "\n",
    "Frequently you’ll want to create new columns based on the values in existing columns, for example to do unit conversions or find the ratio of values in two columns. For this we’ll use mutate().\n",
    "\n",
    "To create a new column of genome size in bp:"
   ]
  },
  {
   "cell_type": "code",
   "execution_count": null,
   "id": "9de42a7e",
   "metadata": {},
   "outputs": [],
   "source": [
    "metadata %>%\n",
    "  mutate(genome_bp = genome_size *1e6)"
   ]
  },
  {
   "cell_type": "code",
   "execution_count": null,
   "id": "08cac4c6",
   "metadata": {},
   "outputs": [],
   "source": [
    "metadata %>%\n",
    "  mutate(genome_bp = genome_size *1e6) %>%\n",
    "  filter(!is.na(clade)) %>%\n",
    "  head"
   ]
  },
  {
   "cell_type": "code",
   "execution_count": null,
   "id": "60dc047b",
   "metadata": {},
   "outputs": [],
   "source": [
    "data2 <- data %>%\n",
    "  mutate(sex = if_else(sex == 1, \"MALE\", \"FEMALE\"),\n",
    "         fbs = if_else(fbs == 1, \">120\", \"<=120\"),\n",
    "         exang = if_else(exang == 1, \"YES\" ,\"NO\"),\n",
    "         cp = if_else(cp == 1, \"ATYPICAL ANGINA\",\n",
    "                      if_else(cp == 2, \"NON-ANGINAL PAIN\", \"ASYMPTOMATIC\")),\n",
    "         restecg = if_else(restecg == 0, \"NORMAL\",\n",
    "                           if_else(restecg == 1, \"ABNORMALITY\", \"PROBABLE OR DEFINITE\")),\n",
    "         slope = as.factor(slope),\n",
    "         ca = as.factor(ca),\n",
    "         thal = as.factor(thal),\n",
    "         target = if_else(target == 1, \"YES\", \"NO\")\n",
    "         ) %>% \n",
    "  mutate_if(is.character, as.factor) %>% \n",
    "  dplyr::select(target, sex, fbs, exang, cp, restecg, slope, ca, thal, everything())"
   ]
  },
  {
   "cell_type": "markdown",
   "id": "8d02c9a0",
   "metadata": {},
   "source": [
    "# Split-apply-combine data analysis and the summarize() function\n",
    "\n",
    "Many data analysis tasks can be approached using the “split-apply-combine” paradigm: split the data into groups, apply some analysis to each group, and then combine the results. dplyr makes this very easy through the use of the group_by() function, which splits the data into groups. When the data is grouped in this way summarize() can be used to collapse each group into a single-row summary. summarize() does this by applying an aggregating or summary function to each group. For example, if we wanted to group by citrate-using mutant status and find the number of rows of data for each status, we would do:"
   ]
  },
  {
   "cell_type": "code",
   "execution_count": null,
   "id": "7bbd424c",
   "metadata": {},
   "outputs": [],
   "source": [
    "metadata %>%\n",
    "  group_by(cit) %>%\n",
    "  summarize(n())"
   ]
  },
  {
   "cell_type": "code",
   "execution_count": null,
   "id": "9c5f9529",
   "metadata": {},
   "outputs": [],
   "source": [
    "metadata %>%\n",
    "  group_by(cit) %>%\n",
    "  summarize(mean_size = mean(genome_size, na.rm = TRUE))"
   ]
  },
  {
   "cell_type": "code",
   "execution_count": null,
   "id": "97153601",
   "metadata": {},
   "outputs": [],
   "source": [
    "metadata %>%\n",
    "  group_by(cit, clade) %>%\n",
    "  summarize(mean_size = mean(genome_size, na.rm = TRUE))"
   ]
  },
  {
   "cell_type": "code",
   "execution_count": null,
   "id": "e0b32eae",
   "metadata": {},
   "outputs": [],
   "source": [
    "metadata %>%\n",
    "  group_by(cit, clade) %>%\n",
    "  summarize(mean_size = mean(genome_size, na.rm = TRUE)) %>%\n",
    "  filter(!is.na(clade))"
   ]
  },
  {
   "cell_type": "code",
   "execution_count": null,
   "id": "1c4fa760",
   "metadata": {},
   "outputs": [],
   "source": [
    "metadata %>%\n",
    "  group_by(cit, clade) %>%\n",
    "  summarize(mean_size = mean(genome_size, na.rm = TRUE),\n",
    "            min_generation = min(generation))"
   ]
  },
  {
   "cell_type": "code",
   "execution_count": null,
   "id": "00c7f89b",
   "metadata": {},
   "outputs": [],
   "source": []
  },
  {
   "cell_type": "code",
   "execution_count": null,
   "id": "853a7336",
   "metadata": {},
   "outputs": [],
   "source": []
  }
 ],
 "metadata": {
  "kernelspec": {
   "display_name": "R",
   "language": "R",
   "name": "ir"
  },
  "language_info": {
   "codemirror_mode": "r",
   "file_extension": ".r",
   "mimetype": "text/x-r-source",
   "name": "R",
   "pygments_lexer": "r",
   "version": "3.6.1"
  }
 },
 "nbformat": 4,
 "nbformat_minor": 5
}
